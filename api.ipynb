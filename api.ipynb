{
 "cells": [
  {
   "cell_type": "code",
   "execution_count": 12,
   "metadata": {},
   "outputs": [
    {
     "name": "stdout",
     "output_type": "stream",
     "text": [
      "\n",
      "\n",
      "PureBrush Toothpaste Co.\n",
      "\n",
      "\n",
      "MintyFresh Toothpaste Co.\n",
      "\n",
      "\n",
      "BrightSmile Toothpaste.\n",
      "\n",
      "\n",
      "SmileGuard Toothpaste.\n",
      "\n",
      "\n",
      "BrightSmile Toothpaste Co.\n",
      "\u001b[1mConcurrent executed in 0.53 seconds.\u001b[0m\n"
     ]
    },
    {
     "ename": "TypeError",
     "evalue": "BaseOpenAI.__new__() takes 1 positional argument but 2 were given",
     "output_type": "error",
     "traceback": [
      "\u001b[0;31m---------------------------------------------------------------------------\u001b[0m",
      "\u001b[0;31mTypeError\u001b[0m                                 Traceback (most recent call last)",
      "\u001b[1;32m/Users/petrisor/Documents/GitHub/Huzum/api.ipynb Cell 1\u001b[0m line \u001b[0;36m4\n\u001b[1;32m     <a href='vscode-notebook-cell:/Users/petrisor/Documents/GitHub/Huzum/api.ipynb#W0sZmlsZQ%3D%3D?line=42'>43</a>\u001b[0m \u001b[39mprint\u001b[39m(\u001b[39m\"\u001b[39m\u001b[39m\\033\u001b[39;00m\u001b[39m[1m\u001b[39m\u001b[39m\"\u001b[39m \u001b[39m+\u001b[39m \u001b[39mf\u001b[39m\u001b[39m\"\u001b[39m\u001b[39mConcurrent executed in \u001b[39m\u001b[39m{\u001b[39;00melapsed\u001b[39m:\u001b[39;00m\u001b[39m0.2f\u001b[39m\u001b[39m}\u001b[39;00m\u001b[39m seconds.\u001b[39m\u001b[39m\"\u001b[39m \u001b[39m+\u001b[39m \u001b[39m\"\u001b[39m\u001b[39m\\033\u001b[39;00m\u001b[39m[0m\u001b[39m\u001b[39m\"\u001b[39m)\n\u001b[1;32m     <a href='vscode-notebook-cell:/Users/petrisor/Documents/GitHub/Huzum/api.ipynb#W0sZmlsZQ%3D%3D?line=44'>45</a>\u001b[0m s \u001b[39m=\u001b[39m time\u001b[39m.\u001b[39mperf_counter()\n\u001b[0;32m---> <a href='vscode-notebook-cell:/Users/petrisor/Documents/GitHub/Huzum/api.ipynb#W0sZmlsZQ%3D%3D?line=45'>46</a>\u001b[0m generate_serially()\n\u001b[1;32m     <a href='vscode-notebook-cell:/Users/petrisor/Documents/GitHub/Huzum/api.ipynb#W0sZmlsZQ%3D%3D?line=46'>47</a>\u001b[0m elapsed \u001b[39m=\u001b[39m time\u001b[39m.\u001b[39mperf_counter() \u001b[39m-\u001b[39m s\n\u001b[1;32m     <a href='vscode-notebook-cell:/Users/petrisor/Documents/GitHub/Huzum/api.ipynb#W0sZmlsZQ%3D%3D?line=47'>48</a>\u001b[0m \u001b[39mprint\u001b[39m(\u001b[39m\"\u001b[39m\u001b[39m\\033\u001b[39;00m\u001b[39m[1m\u001b[39m\u001b[39m\"\u001b[39m \u001b[39m+\u001b[39m \u001b[39mf\u001b[39m\u001b[39m\"\u001b[39m\u001b[39mSerial executed in \u001b[39m\u001b[39m{\u001b[39;00melapsed\u001b[39m:\u001b[39;00m\u001b[39m0.2f\u001b[39m\u001b[39m}\u001b[39;00m\u001b[39m seconds.\u001b[39m\u001b[39m\"\u001b[39m \u001b[39m+\u001b[39m \u001b[39m\"\u001b[39m\u001b[39m\\033\u001b[39;00m\u001b[39m[0m\u001b[39m\u001b[39m\"\u001b[39m)\n",
      "\u001b[1;32m/Users/petrisor/Documents/GitHub/Huzum/api.ipynb Cell 1\u001b[0m line \u001b[0;36m1\n\u001b[1;32m     <a href='vscode-notebook-cell:/Users/petrisor/Documents/GitHub/Huzum/api.ipynb#W0sZmlsZQ%3D%3D?line=12'>13</a>\u001b[0m \u001b[39mdef\u001b[39;00m \u001b[39mgenerate_serially\u001b[39m():\n\u001b[0;32m---> <a href='vscode-notebook-cell:/Users/petrisor/Documents/GitHub/Huzum/api.ipynb#W0sZmlsZQ%3D%3D?line=13'>14</a>\u001b[0m     llm \u001b[39m=\u001b[39m OpenAI(secret_key,temperature\u001b[39m=\u001b[39;49m\u001b[39m0.9\u001b[39;49m)\n\u001b[1;32m     <a href='vscode-notebook-cell:/Users/petrisor/Documents/GitHub/Huzum/api.ipynb#W0sZmlsZQ%3D%3D?line=14'>15</a>\u001b[0m     prompt \u001b[39m=\u001b[39m PromptTemplate(\n\u001b[1;32m     <a href='vscode-notebook-cell:/Users/petrisor/Documents/GitHub/Huzum/api.ipynb#W0sZmlsZQ%3D%3D?line=15'>16</a>\u001b[0m         input_variables\u001b[39m=\u001b[39m[\u001b[39m\"\u001b[39m\u001b[39mproduct\u001b[39m\u001b[39m\"\u001b[39m],\n\u001b[1;32m     <a href='vscode-notebook-cell:/Users/petrisor/Documents/GitHub/Huzum/api.ipynb#W0sZmlsZQ%3D%3D?line=16'>17</a>\u001b[0m         template\u001b[39m=\u001b[39m\u001b[39m\"\u001b[39m\u001b[39mWhat is a good name for a company that makes \u001b[39m\u001b[39m{product}\u001b[39;00m\u001b[39m?\u001b[39m\u001b[39m\"\u001b[39m,\n\u001b[1;32m     <a href='vscode-notebook-cell:/Users/petrisor/Documents/GitHub/Huzum/api.ipynb#W0sZmlsZQ%3D%3D?line=17'>18</a>\u001b[0m     )\n\u001b[1;32m     <a href='vscode-notebook-cell:/Users/petrisor/Documents/GitHub/Huzum/api.ipynb#W0sZmlsZQ%3D%3D?line=18'>19</a>\u001b[0m     chain \u001b[39m=\u001b[39m LLMChain(llm\u001b[39m=\u001b[39mllm, prompt\u001b[39m=\u001b[39mprompt)\n",
      "\u001b[0;31mTypeError\u001b[0m: BaseOpenAI.__new__() takes 1 positional argument but 2 were given"
     ]
    }
   ],
   "source": [
    "import asyncio\n",
    "import time\n",
    "\n",
    "from langchain.llms import OpenAI\n",
    "from langchain.prompts import PromptTemplate\n",
    "from langchain.chains import LLMChain\n",
    "import os\n",
    "from dotenv import load_dotenv\n",
    "load_dotenv()\n",
    "secret_key = os.getenv(\"OPENAI_API_KEY\")\n",
    "\n",
    "# Create a new OpenAI instance\n",
    "def generate_serially():\n",
    "    llm = OpenAI(temperature=0.9)\n",
    "    prompt = PromptTemplate(\n",
    "        input_variables=[\"product\"],\n",
    "        template=\"What is a good name for a company that makes {product}?\",\n",
    "    )\n",
    "    chain = LLMChain(llm=llm, prompt=prompt)\n",
    "    for _ in range(5):\n",
    "        resp = chain.run(product=\"toothpaste\")\n",
    "        print(resp)\n",
    "\n",
    "\n",
    "async def async_generate(chain):\n",
    "    resp = await chain.arun(product=\"toothpaste\")\n",
    "    print(resp)\n",
    "\n",
    "async def generate_concurrently():\n",
    "    llm = OpenAI(temperature=0.9)\n",
    "    prompt = PromptTemplate(\n",
    "        input_variables=[\"product\"],\n",
    "        template=\"What is a good name for a company that makes {product}?\",\n",
    "    )\n",
    "    chain = LLMChain(llm=llm, prompt=prompt)\n",
    "    tasks = [async_generate(chain) for _ in range(5)]\n",
    "    await asyncio.gather(*tasks)\n",
    "\n",
    "\n",
    "s = time.perf_counter()\n",
    "await generate_concurrently()\n",
    "elapsed = time.perf_counter() - s\n",
    "print(\"\\033[1m\" + f\"Concurrent executed in {elapsed:0.2f} seconds.\" + \"\\033[0m\")\n",
    "\n",
    "s = time.perf_counter()\n",
    "generate_serially()\n",
    "elapsed = time.perf_counter() - s\n",
    "print(\"\\033[1m\" + f\"Serial executed in {elapsed:0.2f} seconds.\" + \"\\033[0m\")"
   ]
  }
 ],
 "metadata": {
  "kernelspec": {
   "display_name": "env",
   "language": "python",
   "name": "python3"
  },
  "language_info": {
   "codemirror_mode": {
    "name": "ipython",
    "version": 3
   },
   "file_extension": ".py",
   "mimetype": "text/x-python",
   "name": "python",
   "nbconvert_exporter": "python",
   "pygments_lexer": "ipython3",
   "version": "3.11.5"
  }
 },
 "nbformat": 4,
 "nbformat_minor": 2
}
